{
 "cells": [
  {
   "cell_type": "code",
   "execution_count": 2,
   "id": "ed4df39e-0625-44e1-a659-9d70cfff2a78",
   "metadata": {},
   "outputs": [],
   "source": [
    "from tsp import TravelingSalesmanProblemSolver\n",
    "\n",
    "import numpy as np"
   ]
  },
  {
   "cell_type": "code",
   "execution_count": 3,
   "id": "4e9a1a49-c2aa-4833-87c3-5e6f2483f2ac",
   "metadata": {},
   "outputs": [
    {
     "name": "stdout",
     "output_type": "stream",
     "text": [
      "[0, 2, 1]\n",
      "310\n"
     ]
    }
   ],
   "source": [
    "distance_matrix = np.array([\n",
    "    [0, 100, 200],\n",
    "    [100, 0, 50],\n",
    "    [200, 10, 0],\n",
    "])\n",
    "\n",
    "tsp_solver = TravelingSalesmanProblemSolver(distance_matrix)\n",
    "best_path, small_distance = tsp_solver.solve_brute_force()\n",
    "\n",
    "print(best_path)\n",
    "print(small_distance)"
   ]
  },
  {
   "cell_type": "code",
   "execution_count": null,
   "id": "9985c8c6-7344-4b30-8c6c-e641b47852fb",
   "metadata": {},
   "outputs": [],
   "source": []
  }
 ],
 "metadata": {
  "kernelspec": {
   "display_name": "Python 3 (ipykernel)",
   "language": "python",
   "name": "python3"
  },
  "language_info": {
   "codemirror_mode": {
    "name": "ipython",
    "version": 3
   },
   "file_extension": ".py",
   "mimetype": "text/x-python",
   "name": "python",
   "nbconvert_exporter": "python",
   "pygments_lexer": "ipython3",
   "version": "3.10.5"
  }
 },
 "nbformat": 4,
 "nbformat_minor": 5
}
