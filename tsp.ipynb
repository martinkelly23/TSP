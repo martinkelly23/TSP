{
 "cells": [
  {
   "cell_type": "code",
   "execution_count": 1,
   "id": "ed4df39e-0625-44e1-a659-9d70cfff2a78",
   "metadata": {},
   "outputs": [],
   "source": [
    "from tsp import TravelingSalesmanProblemSolver\n",
    "\n",
    "import numpy as np"
   ]
  },
  {
   "cell_type": "code",
   "execution_count": 2,
   "id": "8ba093f3-6cb5-4dc1-b515-6ccfbde3a056",
   "metadata": {},
   "outputs": [],
   "source": [
    "distance_matrix = np.array([\n",
    "        [0,      145.54, 145.54, 170.67],\n",
    "        [145.54, 0,      145.54, 170.67],\n",
    "        [145.54, 170.67,      0, 145.54],\n",
    "        [145.54, 170.67, 145.73, 0 ]\n",
    "    ])"
   ]
  },
  {
   "cell_type": "code",
   "execution_count": 3,
   "id": "4e9a1a49-c2aa-4833-87c3-5e6f2483f2ac",
   "metadata": {},
   "outputs": [
    {
     "name": "stdout",
     "output_type": "stream",
     "text": [
      "Computing permutation:  [0, 1, 2, 3]\n",
      "Computing permutation:  [0, 1, 3, 2]\n",
      "Computing permutation:  [0, 2, 1, 3]\n",
      "Computing permutation:  [0, 2, 3, 1]\n",
      "Computing permutation:  [0, 3, 1, 2]\n",
      "Computing permutation:  [0, 3, 2, 1]\n",
      "[0, 1, 2, 3]\n",
      "582.16\n"
     ]
    }
   ],
   "source": [
    "tsp_solver = TravelingSalesmanProblemSolver(distance_matrix)\n",
    "best_path, small_distance = tsp_solver.solve_brute_force_fixed_start()\n",
    "\n",
    "print(best_path)\n",
    "print(small_distance)"
   ]
  },
  {
   "cell_type": "code",
   "execution_count": 4,
   "id": "9985c8c6-7344-4b30-8c6c-e641b47852fb",
   "metadata": {},
   "outputs": [],
   "source": [
    "dist = 145.54 + 145.54 + 145.54 + 145.54"
   ]
  },
  {
   "cell_type": "code",
   "execution_count": 5,
   "id": "3a837360-d46b-46d2-a975-3835aee68c85",
   "metadata": {},
   "outputs": [
    {
     "data": {
      "text/plain": [
       "582.16"
      ]
     },
     "execution_count": 5,
     "metadata": {},
     "output_type": "execute_result"
    }
   ],
   "source": [
    "dist"
   ]
  },
  {
   "cell_type": "code",
   "execution_count": 6,
   "id": "ecad3107-ca52-4d95-91d7-4a956cc5c3c7",
   "metadata": {},
   "outputs": [
    {
     "name": "stdout",
     "output_type": "stream",
     "text": [
      "Computing permutation:  [0, 1, 2, 3]\n",
      "Computing permutation:  [0, 2, 1, 3]\n",
      "[0, 1, 2, 3]\n",
      "582.16\n"
     ]
    }
   ],
   "source": [
    "best_path, small_distance = tsp_solver.solve_brute_force_fixed_start_and_end()\n",
    "\n",
    "print(best_path)\n",
    "print(small_distance)"
   ]
  },
  {
   "cell_type": "code",
   "execution_count": 7,
   "id": "d4d44db3-5298-4671-8838-f0d3d68cabaf",
   "metadata": {},
   "outputs": [
    {
     "name": "stdout",
     "output_type": "stream",
     "text": [
      "Computing permutation:  [0, 1, 2, 3]\n",
      "Computing permutation:  [0, 2, 1, 3]\n",
      "Computing permutation:  [1, 0, 2, 3]\n",
      "Computing permutation:  [1, 2, 0, 3]\n",
      "Computing permutation:  [2, 0, 1, 3]\n",
      "Computing permutation:  [2, 1, 0, 3]\n",
      "[0, 1, 2, 3]\n",
      "582.16\n"
     ]
    }
   ],
   "source": [
    "best_path, small_distance = tsp_solver.solve_brute_force_fixed_end()\n",
    "\n",
    "print(best_path)\n",
    "print(small_distance)"
   ]
  },
  {
   "cell_type": "code",
   "execution_count": null,
   "id": "42ef4a3a-3feb-4a2c-8b25-ec907a0d8965",
   "metadata": {},
   "outputs": [],
   "source": []
  }
 ],
 "metadata": {
  "kernelspec": {
   "display_name": "Python 3 (ipykernel)",
   "language": "python",
   "name": "python3"
  },
  "language_info": {
   "codemirror_mode": {
    "name": "ipython",
    "version": 3
   },
   "file_extension": ".py",
   "mimetype": "text/x-python",
   "name": "python",
   "nbconvert_exporter": "python",
   "pygments_lexer": "ipython3",
   "version": "3.10.5"
  }
 },
 "nbformat": 4,
 "nbformat_minor": 5
}
